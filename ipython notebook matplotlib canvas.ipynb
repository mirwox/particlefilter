{
 "cells": [
  {
   "cell_type": "code",
   "execution_count": 1,
   "metadata": {
    "collapsed": true
   },
   "outputs": [],
   "source": [
    "%matplotlib inline"
   ]
  },
  {
   "cell_type": "code",
   "execution_count": 2,
   "metadata": {
    "collapsed": false
   },
   "outputs": [
    {
     "data": {
      "image/png": "[encoded data removed]",
      "text/plain": [
       "<matplotlib.figure.Figure at 0x10803dba8>"
      ]
     },
     "metadata": {},
     "output_type": "display_data"
    }
   ],
   "source": [
    "from random import randint, choice\n",
    "import time\n",
    "import matplotlib.pyplot as plt\n",
    "import matplotlib.patches as mpatches\n",
    "\n",
    "back_color = \"black\"\n",
    "colors     = ['red', 'green', 'cyan', 'yellow']\n",
    "\n",
    "width, height = 16, 16\n",
    "\n",
    "fig, ax = plt.subplots()\n",
    "ax.set(xlim=[0, width], ylim=[0, height]) # Or use \"ax.axis([x0,x1,y0,y1])\"\n",
    "\n",
    "rect = mpatches.Rectangle(\n",
    "    (0, 0), 1, 1,\n",
    "    facecolor = choice(colors),\n",
    "    edgecolor = back_color\n",
    ")\n",
    "ax.add_artist(rect)\n",
    "\n",
    "# Be sure to draw the canvas once before we start blitting. Otherwise\n",
    "# a) the renderer doesn't exist yet, and b) there's noting to blit onto\n",
    "fig.canvas.draw()\n",
    "\n",
    "def update():\n",
    "    x = randint(0, width - 1)\n",
    "    y = randint(0, height - 1)\n",
    "    rect.set(xy=[x,y], facecolor=choice(colors))\n",
    "\n",
    "    start = time.time()\n",
    "    ax.draw_artist(rect)\n",
    "    fig.canvas.blit(ax.bbox)\n",
    "    "
   ]
  },
  {
   "cell_type": "code",
   "execution_count": null,
   "metadata": {
    "collapsed": true
   },
   "outputs": [],
   "source": []
  }
 ],
 "metadata": {
  "kernelspec": {
   "display_name": "Python 3",
   "language": "python",
   "name": "python3"
  },
  "language_info": {
   "codemirror_mode": {
    "name": "ipython",
    "version": 3
   },
   "file_extension": ".py",
   "mimetype": "text/x-python",
   "name": "python",
   "nbconvert_exporter": "python",
   "pygments_lexer": "ipython3",
   "version": "3.4.4"
  }
 },
 "nbformat": 4,
 "nbformat_minor": 0
}
