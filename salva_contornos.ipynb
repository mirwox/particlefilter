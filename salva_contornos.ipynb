{
 "cells": [
  {
   "cell_type": "markdown",
   "metadata": {},
   "source": [
    "# Salvando contornos\n"
   ]
  },
  {
   "cell_type": "markdown",
   "metadata": {},
   "source": [
    "Este arquivo é adaptado do Demo nb_simulate_lidar_fast com o objetivo de salvar os contornos das regiões ocupáveis pelos robôs\n",
    "\n"
   ]
  },
  {
   "cell_type": "code",
   "execution_count": 1,
   "metadata": {},
   "outputs": [],
   "source": [
    "from random import randint, choice\n",
    "import time\n",
    "import matplotlib.pyplot as plt\n",
    "import matplotlib.patches as mpatches\n",
    "import numpy as np\n",
    "import math\n",
    "import random\n",
    "from pf import Particle\n",
    "#from nav_msgs.msg import OccupancyGrid\n",
    "#from occupancy_field import OccupancyField\n",
    "import importlib\n",
    "\n",
    "# %autoreload\n",
    "\n",
    "import cv2\n",
    "\n",
    "import sys\n",
    "import os\n",
    "os.getcwd() \n",
    "import sys\n",
    "sys.path.append(os.getcwd())\n",
    "\n",
    "import rayline\n",
    "#reload(rayline)\n",
    "\n",
    "\n",
    "\n",
    "import inspercles3 as inspercles\n",
    "importlib.reload(inspercles)\n",
    "\n",
    "\n",
    "# Para suprimir alguns warnings do Matplotlib Inline\n",
    "import warnings\n",
    "warnings.simplefilter('ignore')\n",
    "%matplotlib inline\n",
    "\n",
    "\n",
    "def random_color():\n",
    "    h = np.random.randint(low=0,high=180) # It's easier to randomize colors in the H component\n",
    "    s = 200\n",
    "    v = 255\n",
    "    hsv_img = np.array([[[h,s,v]]], dtype=np.dtype('u1')) # We create a one-pixel image in HSV\n",
    "    #print(hsv_img)\n",
    "    rgb_img = cv2.cvtColor(hsv_img, cv2.COLOR_HSV2RGB)\n",
    "    color_val = rgb_img[0][0].astype(float)\n",
    "    #color_val/=255\n",
    "    #print(color_val)\n",
    "    return color_val\n",
    "\n",
    "def computa_visibilidade(image, linex, xstep, ystep):\n",
    "    \"\"\"\n",
    "    \n",
    "    \"\"\"\n",
    "    ig = 0 # grid i\n",
    "    jg = 0 # grid j\n",
    "    \n",
    "    \n",
    "    \n",
    "    \n",
    "def read_lines(file):\n",
    "    \"\"\" Lê de uma arquivo as linhas que constituem as paredes\n",
    "        Retorna uma lista de listas. Cada lista aninhada é\n",
    "        Um segmento de reta no formato\n",
    "        [x1, y1, x2, y2]\n",
    "    \"\"\"\n",
    "    text_lines = None\n",
    "    with open(file, \"r\") as f:\n",
    "        text_lines = f.readlines()\n",
    "    lines = []\n",
    "    for l in text_lines:\n",
    "        print(l)\n",
    "        p = [int(part) for part in l.split(\" \")]\n",
    "        print(p)\n",
    "        lines.append(p)\n",
    "    return lines\n",
    "\n",
    "\n",
    "lines_filename = \"sparse_obstacles_lines.txt\"\n"
   ]
  },
  {
   "cell_type": "markdown",
   "metadata": {},
   "source": [
    "## Diretório de trabalho"
   ]
  },
  {
   "cell_type": "code",
   "execution_count": 2,
   "metadata": {},
   "outputs": [
    {
     "name": "stdout",
     "output_type": "stream",
     "text": [
      "/Users/mirwox/Dropbox/Insper/2016/Robotics/src/robotica_pf2018/old\n"
     ]
    }
   ],
   "source": [
    "!pwd\n",
    "\n",
    "\n"
   ]
  },
  {
   "cell_type": "code",
   "execution_count": 3,
   "metadata": {},
   "outputs": [],
   "source": [
    "# Dados do arquivo mapa.yaml\n",
    "\n",
    "resolution = 0.020000\n",
    "origin =  [-5.000000, -5.000000, 0.000000]\n",
    "occupied_thresh = 0.8\n",
    "free_thresh =  0.2\n",
    "\n",
    "inspercles.free_thresh = free_thresh # Limiar em tons de cinza para que uma celula seja considerada livre\n",
    "inspercles.occupied_thresh = occupied_thresh # Limiar de celula ocupada\n",
    "inspercles.origin = origin\n",
    "inspercles.resolution = resolution\n"
   ]
  },
  {
   "cell_type": "code",
   "execution_count": 4,
   "metadata": {},
   "outputs": [],
   "source": [
    "\n",
    "\n",
    "from PIL import Image as PilImage\n",
    "\n",
    "\n",
    "color_image = cv2.imread(\"sparse_obstacles.png\")\n",
    "pil_image = color_image\n",
    "np_image = cv2.cvtColor(color_image, cv2.COLOR_BGR2GRAY)\n",
    "\n",
    "\n",
    "#color_image = PilImage.open(\"sparse_obstacles.png\", 'r')\n",
    "#pil_image = color_image.convert('1') # Converte a imagem PIL para Grayscale\n",
    "#np_image = np.asarray(pil_image)\n",
    "\n",
    "particle_size = 10\n",
    "\n",
    "#import matplotlib_render as plotmap\n",
    "\n",
    "\n",
    "back_color = \"black\"\n",
    "colors     = ['red', 'green', 'cyan', 'yellow']\n",
    "width, height = 775, 746\n",
    "\n",
    "inspercles.width = width\n",
    "inspercles.height = height\n",
    "\n",
    "\n",
    "\n",
    "\n",
    "initial_pose = [200, 200, math.pi/8] # Posicao inicial considerada para o pf\n",
    "inspercles.initial_pose = initial_pose\n",
    "pose = [330, 220, math.radians(90)] # posicao \"verdadeira\" do robo \n",
    "inspercles.pose = pose\n",
    "robot_radius=10   # Raio do robo\n",
    "inspercles.robot_radius = robot_radius\n",
    "\n",
    "\n",
    "# Os angulos em que o robo simulado vai ter sensores\n",
    "angles = np.linspace(0.0, 2*math.pi, num=8)\n",
    "\n",
    "particle_cloud = []\n",
    "\n",
    "\n",
    "\n",
    "    \n",
    "    \n",
    "    \n",
    "    "
   ]
  },
  {
   "cell_type": "code",
   "execution_count": 5,
   "metadata": {},
   "outputs": [
    {
     "data": {
      "text/plain": [
       "<matplotlib.axes._subplots.AxesSubplot at 0x1a1260d7b8>"
      ]
     },
     "execution_count": 5,
     "metadata": {},
     "output_type": "execute_result"
    },
    {
     "data": {
      "image/png": "[encoded data removed]",
      "text/plain": [
       "<Figure size 720x720 with 1 Axes>"
      ]
     },
     "metadata": {},
     "output_type": "display_data"
    }
   ],
   "source": [
    "\n",
    "particulas = inspercles.nb_create_particles(pose = initial_pose, var_x = 100, var_y = 100, var_theta = math.pi/2, num = 10)\n",
    "inspercles.nb_draw_map(color_image, particles = particulas, initial_position = initial_pose, pose=pose, robot=True)"
   ]
  },
  {
   "cell_type": "markdown",
   "metadata": {},
   "source": [
    "# Filtragem HSV"
   ]
  },
  {
   "cell_type": "code",
   "execution_count": 6,
   "metadata": {},
   "outputs": [],
   "source": [
    "imagem_hsv = cv2.cvtColor(color_image, cv2.COLOR_RGB2HSV)\n",
    "\n",
    "cor_menor = np.array([0,0,200])\n",
    "cor_maior = np.array([0,0,255])\n",
    "\n",
    "mascara = cv2.inRange(imagem_hsv, cor_menor, cor_maior)"
   ]
  },
  {
   "cell_type": "markdown",
   "metadata": {},
   "source": [
    "Máscara da região branca"
   ]
  },
  {
   "cell_type": "code",
   "execution_count": 7,
   "metadata": {},
   "outputs": [
    {
     "data": {
      "text/plain": [
       "<matplotlib.image.AxesImage at 0x1a1f2faa20>"
      ]
     },
     "execution_count": 7,
     "metadata": {},
     "output_type": "execute_result"
    },
    {
     "data": {
      "image/png": "[encoded data removed]",
      "text/plain": [
       "<Figure size 432x288 with 1 Axes>"
      ]
     },
     "metadata": {},
     "output_type": "display_data"
    }
   ],
   "source": [
    "plt.imshow(mascara, cmap=\"Greys_r\")"
   ]
  },
  {
   "cell_type": "code",
   "execution_count": 8,
   "metadata": {},
   "outputs": [],
   "source": [
    "img_out, contornos, arvore = cv2.findContours(mascara.copy(), cv2.RETR_TREE, cv2.CHAIN_APPROX_SIMPLE) "
   ]
  },
  {
   "cell_type": "code",
   "execution_count": 9,
   "metadata": {},
   "outputs": [
    {
     "data": {
      "text/plain": [
       "(746, 775)"
      ]
     },
     "execution_count": 9,
     "metadata": {},
     "output_type": "execute_result"
    }
   ],
   "source": [
    "mascara.shape"
   ]
  },
  {
   "cell_type": "code",
   "execution_count": 10,
   "metadata": {},
   "outputs": [
    {
     "data": {
      "text/plain": [
       "(746, 775)"
      ]
     },
     "execution_count": 10,
     "metadata": {},
     "output_type": "execute_result"
    }
   ],
   "source": [
    "img_out.shape"
   ]
  },
  {
   "cell_type": "code",
   "execution_count": 11,
   "metadata": {},
   "outputs": [
    {
     "data": {
      "text/plain": [
       "(746, 775, 3)"
      ]
     },
     "execution_count": 11,
     "metadata": {},
     "output_type": "execute_result"
    }
   ],
   "source": [
    "color_image.shape"
   ]
  },
  {
   "cell_type": "code",
   "execution_count": 12,
   "metadata": {},
   "outputs": [],
   "source": [
    "saida = color_image.copy()\n",
    "saida[:] = [0,0,0]"
   ]
  },
  {
   "cell_type": "code",
   "execution_count": 13,
   "metadata": {},
   "outputs": [
    {
     "data": {
      "text/plain": [
       "<matplotlib.image.AxesImage at 0x1a20356668>"
      ]
     },
     "execution_count": 13,
     "metadata": {},
     "output_type": "execute_result"
    },
    {
     "data": {
      "image/png": "[encoded data removed]",
      "text/plain": [
       "<Figure size 432x288 with 1 Axes>"
      ]
     },
     "metadata": {},
     "output_type": "display_data"
    }
   ],
   "source": [
    "plt.imshow(saida)"
   ]
  },
  {
   "cell_type": "code",
   "execution_count": 14,
   "metadata": {},
   "outputs": [],
   "source": [
    "for c in contornos:\n",
    "    saida = cv2.drawContours(saida, [c], -1, random_color(), 5)\n",
    "\n"
   ]
  },
  {
   "cell_type": "code",
   "execution_count": 15,
   "metadata": {},
   "outputs": [
    {
     "data": {
      "text/plain": [
       "10"
      ]
     },
     "execution_count": 15,
     "metadata": {},
     "output_type": "execute_result"
    }
   ],
   "source": [
    "len(contornos)"
   ]
  },
  {
   "cell_type": "code",
   "execution_count": 16,
   "metadata": {},
   "outputs": [
    {
     "data": {
      "text/plain": [
       "<matplotlib.image.AxesImage at 0x1a2040e8d0>"
      ]
     },
     "execution_count": 16,
     "metadata": {},
     "output_type": "execute_result"
    },
    {
     "data": {
      "image/png": "[encoded data removed]",
      "text/plain": [
       "<Figure size 432x288 with 1 Axes>"
      ]
     },
     "metadata": {},
     "output_type": "display_data"
    }
   ],
   "source": [
    "plt.imshow(saida)"
   ]
  },
  {
   "cell_type": "markdown",
   "metadata": {},
   "source": [
    "# Conversão para imagem binárias\n",
    "\n",
    "\n"
   ]
  },
  {
   "cell_type": "code",
   "execution_count": 17,
   "metadata": {},
   "outputs": [],
   "source": [
    "canny = cv2.Canny(np_image, occupied_thresh*255, free_thresh*255)\n",
    "\n",
    "kernel = np.ones((3,3), np.uint8)\n",
    "canny = cv2.dilate(canny, kernel, iterations=1)"
   ]
  },
  {
   "cell_type": "code",
   "execution_count": 18,
   "metadata": {},
   "outputs": [
    {
     "data": {
      "text/plain": [
       "<matplotlib.image.AxesImage at 0x1a20956cf8>"
      ]
     },
     "execution_count": 18,
     "metadata": {},
     "output_type": "execute_result"
    },
    {
     "data": {
      "image/png": "[encoded data removed]",
      "text/plain": [
       "<Figure size 1080x1080 with 1 Axes>"
      ]
     },
     "metadata": {},
     "output_type": "display_data"
    }
   ],
   "source": [
    "plt.figure(figsize=(15,15))\n",
    "plt.imshow(canny, cmap=\"Greys_r\", vmin=0, vmax=255)"
   ]
  },
  {
   "cell_type": "markdown",
   "metadata": {},
   "source": [
    "Aplicaremos a transformada de Hough para retas\n",
    "\n"
   ]
  },
  {
   "cell_type": "code",
   "execution_count": 19,
   "metadata": {},
   "outputs": [
    {
     "data": {
      "image/png": "[encoded data removed]",
      "text/plain": [
       "<Figure size 432x288 with 1 Axes>"
      ]
     },
     "metadata": {},
     "output_type": "display_data"
    }
   ],
   "source": [
    "def test_colors():\n",
    "    hsv_img = np.zeros([100,100,3], dtype=np.dtype('u1')) # We create a one-pixel image in HSV\n",
    "    for i in range(hsv_img.shape[0]):\n",
    "        for j in range(hsv_img.shape[1]):\n",
    "            h = np.random.randint(low=0,high=180) # It's easier to randomize colors in the H component\n",
    "            s = 200\n",
    "            v = 255\n",
    "            hsv_img[i][j] = [h,s,v]\n",
    "            \n",
    "    rgb_img = cv2.cvtColor(hsv_img, cv2.COLOR_HSV2RGB)\n",
    "    plt.imshow(rgb_img, interpolation=\"none\")\n",
    "test_colors()"
   ]
  },
  {
   "cell_type": "code",
   "execution_count": 20,
   "metadata": {},
   "outputs": [
    {
     "name": "stdout",
     "output_type": "stream",
     "text": [
      "Shape 1s dim  775\n",
      "Shape (746, 775)\n",
      "Found  276  lines\n"
     ]
    },
    {
     "data": {
      "text/plain": [
       "<matplotlib.image.AxesImage at 0x1a20873390>"
      ]
     },
     "execution_count": 20,
     "metadata": {},
     "output_type": "execute_result"
    },
    {
     "data": {
      "image/png": "[encoded data removed]",
      "text/plain": [
       "<Figure size 1080x1080 with 1 Axes>"
      ]
     },
     "metadata": {},
     "output_type": "display_data"
    }
   ],
   "source": [
    "\n",
    "\n",
    "def random_color():\n",
    "    h = np.random.randint(low=0,high=180) # It's easier to randomize colors in the H component\n",
    "    s = 200\n",
    "    v = 255\n",
    "    hsv_img = np.array([[[h,s,v]]], dtype=np.dtype('u1')) # We create a one-pixel image in HSV\n",
    "    #print(hsv_img)\n",
    "    rgb_img = cv2.cvtColor(hsv_img, cv2.COLOR_HSV2RGB)\n",
    "    color_val = rgb_img[0][0].astype(float)\n",
    "    #color_val/=255\n",
    "    #print(color_val)\n",
    "    return color_val\n",
    "\n",
    "    \n",
    "\n",
    "\n",
    "\n",
    "\n",
    "    \n",
    "    \n",
    "edges = canny\n",
    "\n",
    "img = np_image\n",
    "\n",
    "canvas = np.copy(color_image)\n",
    "\n",
    "\n",
    "print(\"Shape 1s dim \", img.shape[1])\n",
    "print(\"Shape\", img.shape)\n",
    "minLineLength=img.shape[1]/45\n",
    "\n",
    "linhas = np.array([])\n",
    "\n",
    "lines = cv2.HoughLinesP(image=edges,rho=0.02,theta=np.pi/500, threshold=25,lines=linhas, minLineLength=minLineLength,maxLineGap=3)\n",
    "\n",
    "a,b,c = lines.shape\n",
    "print(\"Found \", a,\" lines\")\n",
    "for i in range(a):\n",
    "    cv2.line(canvas, (lines[i][0][0], lines[i][0][1]), (lines[i][0][2], lines[i][0][3]), random_color(), 2, cv2.LINE_AA)\n",
    "\n",
    "plt.figure(figsize=(15,15))\n",
    "plt.imshow(canvas)\n",
    "\n"
   ]
  },
  {
   "cell_type": "code",
   "execution_count": 21,
   "metadata": {},
   "outputs": [
    {
     "data": {
      "text/plain": [
       "array([[[446, 717, 558, 717]],\n",
       "\n",
       "       [[ 17, 723, 757, 723]],\n",
       "\n",
       "       [[ 20,  15, 754,  15]],\n",
       "\n",
       "       ...,\n",
       "\n",
       "       [[230, 159, 230, 116]],\n",
       "\n",
       "       [[529, 460, 565, 460]],\n",
       "\n",
       "       [[485, 201, 521, 201]]], dtype=int32)"
      ]
     },
     "execution_count": 21,
     "metadata": {},
     "output_type": "execute_result"
    }
   ],
   "source": [
    "lines"
   ]
  },
  {
   "cell_type": "code",
   "execution_count": 22,
   "metadata": {},
   "outputs": [],
   "source": [
    "with open(lines_filename, \"w\") as f:\n",
    "    for i in range(lines.shape[0]):\n",
    "        f.write(\"{} {} {} {}\\n\".format(lines[i][0][0], lines[i][0][1], lines[i][0][2], lines[i][0][3]))"
   ]
  },
  {
   "cell_type": "code",
   "execution_count": 23,
   "metadata": {},
   "outputs": [
    {
     "name": "stdout",
     "output_type": "stream",
     "text": [
      "x1 446 y1 717 x2 558 y2 717\n",
      "x1 17 y1 723 x2 757 y2 723\n",
      "x1 20 y1 15 x2 754 y2 15\n",
      "x1 17 y1 17 x2 757 y2 17\n",
      "x1 23 y1 23 x2 317 y2 23\n",
      "x1 23 y1 717 x2 23 y2 458\n",
      "x1 18 y1 724 x2 18 y2 16\n",
      "x1 322 y1 24 x2 524 y2 24\n",
      "x1 749 y1 608 x2 749 y2 262\n",
      "x1 21 y1 725 x2 754 y2 725\n",
      "x1 16 y1 721 x2 16 y2 18\n",
      "x1 17 y1 722 x2 17 y2 16\n",
      "x1 756 y1 724 x2 756 y2 16\n",
      "x1 758 y1 721 x2 758 y2 19\n",
      "x1 750 y1 608 x2 750 y2 455\n",
      "x1 751 y1 256 x2 751 y2 23\n",
      "x1 19 y1 724 x2 755 y2 724\n",
      "x1 19 y1 16 x2 755 y2 16\n",
      "x1 157 y1 716 x2 393 y2 716\n",
      "x1 757 y1 722 x2 757 y2 18\n",
      "x1 24 y1 718 x2 151 y2 718\n",
      "x1 24 y1 22 x2 316 y2 22\n",
      "x1 25 y1 408 x2 25 y2 24\n",
      "x1 575 y1 308 x2 575 y2 148\n",
      "x1 24 y1 407 x2 24 y2 24\n",
      "x1 574 y1 502 x2 574 y2 313\n",
      "x1 576 y1 308 x2 576 y2 148\n",
      "x1 524 y1 491 x2 524 y2 201\n",
      "x1 65 y1 406 x2 348 y2 406\n",
      "x1 522 y1 427 x2 522 y2 22\n",
      "x1 523 y1 195 x2 523 y2 22\n",
      "x1 66 y1 408 x2 350 y2 408\n",
      "x1 24 y1 457 x2 350 y2 457\n",
      "x1 24 y1 458 x2 349 y2 458\n",
      "x1 24 y1 459 x2 348 y2 459\n",
      "x1 65 y1 407 x2 349 y2 407\n",
      "x1 391 y1 718 x2 391 y2 570\n",
      "x1 573 y1 503 x2 573 y2 333\n",
      "x1 447 y1 718 x2 447 y2 569\n",
      "x1 672 y1 67 x2 672 y2 22\n",
      "x1 446 y1 716 x2 446 y2 568\n",
      "x1 392 y1 611 x2 392 y2 569\n",
      "x1 85 y1 569 x2 130 y2 569\n",
      "x1 157 y1 717 x2 393 y2 717\n",
      "x1 448 y1 718 x2 448 y2 571\n",
      "x1 136 y1 570 x2 179 y2 570\n",
      "x1 236 y1 263 x2 279 y2 263\n",
      "x1 658 y1 218 x2 705 y2 218\n",
      "x1 393 y1 611 x2 393 y2 568\n",
      "x1 158 y1 307 x2 158 y2 225\n",
      "x1 157 y1 307 x2 157 y2 225\n",
      "x1 660 y1 219 x2 705 y2 219\n",
      "x1 564 y1 718 x2 750 y2 718\n",
      "x1 225 y1 168 x2 321 y2 168\n",
      "x1 663 y1 454 x2 748 y2 454\n",
      "x1 159 y1 307 x2 159 y2 226\n",
      "x1 129 y1 615 x2 129 y2 570\n",
      "x1 116 y1 220 x2 116 y2 177\n",
      "x1 387 y1 241 x2 476 y2 241\n",
      "x1 123 y1 220 x2 166 y2 220\n",
      "x1 284 y1 272 x2 284 y2 218\n",
      "x1 750 y1 449 x2 750 y2 262\n",
      "x1 122 y1 115 x2 122 y2 66\n",
      "x1 70 y1 226 x2 156 y2 226\n",
      "x1 224 y1 167 x2 321 y2 167\n",
      "x1 597 y1 568 x2 650 y2 568\n",
      "x1 575 y1 313 x2 619 y2 313\n",
      "x1 710 y1 256 x2 710 y2 210\n",
      "x1 114 y1 306 x2 156 y2 306\n",
      "x1 389 y1 239 x2 477 y2 239\n",
      "x1 394 y1 248 x2 481 y2 248\n",
      "x1 664 y1 455 x2 751 y2 455\n",
      "x1 131 y1 563 x2 131 y2 516\n",
      "x1 164 y1 314 x2 164 y2 218\n",
      "x1 138 y1 564 x2 138 y2 518\n",
      "x1 130 y1 564 x2 130 y2 517\n",
      "x1 665 y1 456 x2 665 y2 404\n",
      "x1 115 y1 109 x2 115 y2 66\n",
      "x1 671 y1 67 x2 671 y2 24\n",
      "x1 226 y1 169 x2 292 y2 169\n",
      "x1 85 y1 563 x2 129 y2 563\n",
      "x1 322 y1 166 x2 322 y2 117\n",
      "x1 166 y1 312 x2 166 y2 221\n",
      "x1 315 y1 161 x2 315 y2 115\n",
      "x1 666 y1 456 x2 751 y2 456\n",
      "x1 137 y1 617 x2 137 y2 569\n",
      "x1 234 y1 264 x2 279 y2 264\n",
      "x1 599 y1 566 x2 648 y2 566\n",
      "x1 123 y1 219 x2 123 y2 176\n",
      "x1 598 y1 567 x2 649 y2 567\n",
      "x1 512 y1 676 x2 557 y2 676\n",
      "x1 87 y1 571 x2 131 y2 571\n",
      "x1 165 y1 313 x2 165 y2 219\n",
      "x1 670 y1 448 x2 751 y2 448\n",
      "x1 670 y1 449 x2 748 y2 449\n",
      "x1 230 y1 160 x2 314 y2 160\n",
      "x1 72 y1 227 x2 156 y2 227\n",
      "x1 115 y1 314 x2 163 y2 314\n",
      "x1 574 y1 307 x2 618 y2 307\n",
      "x1 671 y1 450 x2 748 y2 450\n",
      "x1 395 y1 246 x2 484 y2 246\n",
      "x1 136 y1 562 x2 178 y2 562\n",
      "x1 231 y1 161 x2 314 y2 161\n",
      "x1 232 y1 162 x2 313 y2 162\n",
      "x1 23 y1 24 x2 317 y2 24\n",
      "x1 598 y1 619 x2 598 y2 569\n",
      "x1 70 y1 115 x2 121 y2 115\n",
      "x1 137 y1 564 x2 180 y2 564\n",
      "x1 72 y1 116 x2 121 y2 116\n",
      "x1 512 y1 671 x2 565 y2 671\n",
      "x1 658 y1 212 x2 712 y2 212\n",
      "x1 70 y1 225 x2 156 y2 225\n",
      "x1 660 y1 210 x2 709 y2 210\n",
      "x1 708 y1 615 x2 751 y2 615\n",
      "x1 568 y1 503 x2 568 y2 459\n",
      "x1 235 y1 653 x2 283 y2 653\n",
      "x1 596 y1 617 x2 596 y2 569\n",
      "x1 705 y1 613 x2 750 y2 613\n",
      "x1 136 y1 617 x2 136 y2 571\n",
      "x1 395 y1 247 x2 483 y2 247\n",
      "x1 389 y1 293 x2 389 y2 240\n",
      "x1 272 y1 67 x2 323 y2 67\n",
      "x1 513 y1 677 x2 558 y2 677\n",
      "x1 272 y1 66 x2 324 y2 66\n",
      "x1 398 y1 105 x2 444 y2 105\n",
      "x1 272 y1 60 x2 317 y2 60\n",
      "x1 525 y1 491 x2 525 y2 426\n",
      "x1 597 y1 618 x2 597 y2 569\n",
      "x1 388 y1 240 x2 477 y2 240\n",
      "x1 272 y1 61 x2 316 y2 61\n",
      "x1 235 y1 659 x2 289 y2 659\n",
      "x1 349 y1 456 x2 349 y2 409\n",
      "x1 394 y1 293 x2 394 y2 249\n",
      "x1 236 y1 660 x2 288 y2 660\n",
      "x1 348 y1 618 x2 393 y2 618\n",
      "x1 563 y1 716 x2 563 y2 670\n",
      "x1 398 y1 106 x2 443 y2 106\n",
      "x1 444 y1 104 x2 444 y2 60\n",
      "x1 347 y1 617 x2 392 y2 617\n",
      "x1 605 y1 617 x2 605 y2 573\n",
      "x1 663 y1 453 x2 663 y2 405\n",
      "x1 751 y1 447 x2 751 y2 262\n",
      "x1 477 y1 238 x2 477 y2 194\n",
      "x1 70 y1 109 x2 114 y2 109\n",
      "x1 235 y1 658 x2 290 y2 658\n",
      "x1 603 y1 619 x2 603 y2 575\n",
      "x1 564 y1 716 x2 751 y2 716\n",
      "x1 658 y1 211 x2 711 y2 211\n",
      "x1 523 y1 490 x2 523 y2 201\n",
      "x1 350 y1 456 x2 350 y2 409\n",
      "x1 237 y1 364 x2 285 y2 364\n",
      "x1 236 y1 652 x2 283 y2 652\n",
      "x1 575 y1 142 x2 575 y2 22\n",
      "x1 604 y1 618 x2 604 y2 574\n",
      "x1 565 y1 717 x2 565 y2 672\n",
      "x1 70 y1 108 x2 116 y2 108\n",
      "x1 484 y1 245 x2 484 y2 194\n",
      "x1 236 y1 363 x2 286 y2 363\n",
      "x1 348 y1 456 x2 348 y2 409\n",
      "x1 558 y1 718 x2 558 y2 678\n",
      "x1 236 y1 272 x2 283 y2 272\n",
      "x1 400 y1 113 x2 449 y2 113\n",
      "x1 398 y1 111 x2 451 y2 111\n",
      "x1 574 y1 149 x2 617 y2 149\n",
      "x1 395 y1 292 x2 395 y2 249\n",
      "x1 576 y1 143 x2 618 y2 143\n",
      "x1 451 y1 110 x2 451 y2 62\n",
      "x1 388 y1 292 x2 388 y2 242\n",
      "x1 398 y1 112 x2 450 y2 112\n",
      "x1 237 y1 362 x2 237 y2 312\n",
      "x1 483 y1 245 x2 483 y2 201\n",
      "x1 514 y1 678 x2 559 y2 678\n",
      "x1 711 y1 256 x2 711 y2 213\n",
      "x1 348 y1 609 x2 390 y2 609\n",
      "x1 138 y1 569 x2 180 y2 569\n",
      "x1 476 y1 195 x2 524 y2 195\n",
      "x1 346 y1 616 x2 390 y2 616\n",
      "x1 121 y1 114 x2 121 y2 65\n",
      "x1 235 y1 362 x2 287 y2 362\n",
      "x1 564 y1 717 x2 564 y2 670\n",
      "x1 393 y1 715 x2 393 y2 619\n",
      "x1 705 y1 263 x2 705 y2 220\n",
      "x1 567 y1 502 x2 567 y2 458\n",
      "x1 666 y1 67 x2 666 y2 22\n",
      "x1 274 y1 68 x2 322 y2 68\n",
      "x1 347 y1 610 x2 390 y2 610\n",
      "x1 658 y1 217 x2 704 y2 217\n",
      "x1 23 y1 407 x2 23 y2 25\n",
      "x1 320 y1 166 x2 320 y2 115\n",
      "x1 387 y1 290 x2 387 y2 242\n",
      "x1 574 y1 308 x2 574 y2 148\n",
      "x1 664 y1 453 x2 664 y2 404\n",
      "x1 559 y1 716 x2 559 y2 679\n",
      "x1 566 y1 501 x2 566 y2 458\n",
      "x1 712 y1 257 x2 712 y2 213\n",
      "x1 513 y1 670 x2 562 y2 670\n",
      "x1 113 y1 312 x2 163 y2 312\n",
      "x1 704 y1 263 x2 704 y2 220\n",
      "x1 442 y1 104 x2 442 y2 62\n",
      "x1 450 y1 110 x2 450 y2 61\n",
      "x1 396 y1 291 x2 396 y2 249\n",
      "x1 321 y1 166 x2 321 y2 116\n",
      "x1 392 y1 718 x2 392 y2 619\n",
      "x1 70 y1 114 x2 123 y2 114\n",
      "x1 122 y1 218 x2 163 y2 218\n",
      "x1 274 y1 59 x2 317 y2 59\n",
      "x1 574 y1 142 x2 617 y2 142\n",
      "x1 449 y1 110 x2 449 y2 60\n",
      "x1 476 y1 202 x2 521 y2 202\n",
      "x1 85 y1 570 x2 130 y2 570\n",
      "x1 670 y1 447 x2 670 y2 404\n",
      "x1 703 y1 262 x2 703 y2 220\n",
      "x1 443 y1 104 x2 443 y2 61\n",
      "x1 124 y1 219 x2 163 y2 219\n",
      "x1 235 y1 361 x2 235 y2 315\n",
      "x1 577 y1 150 x2 616 y2 150\n",
      "x1 117 y1 220 x2 117 y2 176\n",
      "x1 706 y1 614 x2 751 y2 614\n",
      "x1 225 y1 166 x2 225 y2 117\n",
      "x1 606 y1 573 x2 650 y2 573\n",
      "x1 574 y1 141 x2 616 y2 141\n",
      "x1 667 y1 67 x2 667 y2 24\n",
      "x1 482 y1 245 x2 482 y2 203\n",
      "x1 346 y1 611 x2 390 y2 611\n",
      "x1 224 y1 166 x2 224 y2 118\n",
      "x1 72 y1 107 x2 116 y2 107\n",
      "x1 673 y1 66 x2 673 y2 22\n",
      "x1 247 y1 651 x2 290 y2 651\n",
      "x1 59 y1 407 x2 59 y2 363\n",
      "x1 242 y1 357 x2 286 y2 357\n",
      "x1 557 y1 718 x2 557 y2 679\n",
      "x1 66 y1 405 x2 66 y2 363\n",
      "x1 60 y1 406 x2 60 y2 362\n",
      "x1 514 y1 669 x2 554 y2 669\n",
      "x1 485 y1 200 x2 521 y2 200\n",
      "x1 577 y1 148 x2 618 y2 148\n",
      "x1 324 y1 65 x2 324 y2 22\n",
      "x1 606 y1 574 x2 650 y2 574\n",
      "x1 476 y1 238 x2 476 y2 196\n",
      "x1 606 y1 575 x2 649 y2 575\n",
      "x1 575 y1 315 x2 617 y2 315\n",
      "x1 400 y1 104 x2 441 y2 104\n",
      "x1 244 y1 358 x2 287 y2 358\n",
      "x1 705 y1 608 x2 748 y2 608\n",
      "x1 234 y1 270 x2 286 y2 270\n",
      "x1 158 y1 718 x2 390 y2 718\n",
      "x1 478 y1 196 x2 521 y2 196\n",
      "x1 242 y1 356 x2 285 y2 356\n",
      "x1 58 y1 408 x2 58 y2 364\n",
      "x1 152 y1 716 x2 152 y2 672\n",
      "x1 65 y1 405 x2 65 y2 362\n",
      "x1 322 y1 23 x2 521 y2 23\n",
      "x1 706 y1 262 x2 748 y2 262\n",
      "x1 706 y1 607 x2 751 y2 607\n",
      "x1 236 y1 361 x2 236 y2 313\n",
      "x1 577 y1 308 x2 619 y2 308\n",
      "x1 674 y1 22 x2 750 y2 22\n",
      "x1 234 y1 271 x2 285 y2 271\n",
      "x1 478 y1 194 x2 524 y2 194\n",
      "x1 531 y1 490 x2 531 y2 458\n",
      "x1 114 y1 106 x2 114 y2 67\n",
      "x1 707 y1 606 x2 751 y2 606\n",
      "x1 286 y1 269 x2 286 y2 220\n",
      "x1 475 y1 238 x2 475 y2 206\n",
      "x1 290 y1 657 x2 290 y2 609\n",
      "x1 234 y1 265 x2 279 y2 265\n",
      "x1 150 y1 717 x2 150 y2 674\n",
      "x1 750 y1 717 x2 750 y2 616\n",
      "x1 67 y1 405 x2 67 y2 365\n",
      "x1 151 y1 717 x2 151 y2 673\n",
      "x1 285 y1 269 x2 285 y2 219\n",
      "x1 530 y1 490 x2 530 y2 458\n",
      "x1 323 y1 65 x2 323 y2 22\n",
      "x1 230 y1 159 x2 230 y2 116\n",
      "x1 529 y1 460 x2 565 y2 460\n",
      "x1 485 y1 201 x2 521 y2 201\n"
     ]
    }
   ],
   "source": [
    "for i in range(lines.shape[0]):\n",
    "    print(\"x1 {} y1 {} x2 {} y2 {}\".format(lines[i][0][0], lines[i][0][1], lines[i][0][2], lines[i][0][3]))"
   ]
  },
  {
   "cell_type": "code",
   "execution_count": 24,
   "metadata": {},
   "outputs": [],
   "source": [
    "lines_clone = np.copy(lines)"
   ]
  },
  {
   "cell_type": "code",
   "execution_count": 25,
   "metadata": {},
   "outputs": [
    {
     "data": {
      "text/plain": [
       "array([[[446, 717, 558, 717]],\n",
       "\n",
       "       [[ 17, 723, 757, 723]],\n",
       "\n",
       "       [[ 20,  15, 754,  15]],\n",
       "\n",
       "       ...,\n",
       "\n",
       "       [[230, 159, 230, 116]],\n",
       "\n",
       "       [[529, 460, 565, 460]],\n",
       "\n",
       "       [[485, 201, 521, 201]]], dtype=int32)"
      ]
     },
     "execution_count": 25,
     "metadata": {},
     "output_type": "execute_result"
    }
   ],
   "source": [
    "lines_clone"
   ]
  },
  {
   "cell_type": "code",
   "execution_count": 26,
   "metadata": {},
   "outputs": [
    {
     "data": {
      "text/plain": [
       "array([446,  17,  20,  17,  23,  23,  18, 322, 749,  21,  16,  17, 756,\n",
       "       758, 750, 751,  19,  19, 157, 757,  24,  24,  25, 575,  24, 574,\n",
       "       576, 524,  65, 522, 523,  66,  24,  24,  24,  65, 391, 573, 447,\n",
       "       672, 446, 392,  85, 157, 448, 136, 236, 658, 393, 158, 157, 660,\n",
       "       564, 225, 663, 159, 129, 116, 387, 123, 284, 750, 122,  70, 224,\n",
       "       597, 575, 710, 114, 389, 394, 664, 131, 164, 138, 130, 665, 115,\n",
       "       671, 226,  85, 322, 166, 315, 666, 137, 234, 599, 123, 598, 512,\n",
       "        87, 165, 670, 670, 230,  72, 115, 574, 671, 395, 136, 231, 232,\n",
       "        23, 598,  70, 137,  72, 512, 658,  70, 660, 708, 568, 235, 596,\n",
       "       705, 136, 395, 389, 272, 513, 272, 398, 272, 525, 597, 388, 272,\n",
       "       235, 349, 394, 236, 348, 563, 398, 444, 347, 605, 663, 751, 477,\n",
       "        70, 235, 603, 564, 658, 523, 350, 237, 236, 575, 604, 565,  70,\n",
       "       484, 236, 348, 558, 236, 400, 398, 574, 395, 576, 451, 388, 398,\n",
       "       237, 483, 514, 711, 348, 138, 476, 346, 121, 235, 564, 393, 705,\n",
       "       567, 666, 274, 347, 658,  23, 320, 387, 574, 664, 559, 566, 712,\n",
       "       513, 113, 704, 442, 450, 396, 321, 392,  70, 122, 274, 574, 449,\n",
       "       476,  85, 670, 703, 443, 124, 235, 577, 117, 706, 225, 606, 574,\n",
       "       667, 482, 346, 224,  72, 673, 247,  59, 242, 557,  66,  60, 514,\n",
       "       485, 577, 324, 606, 476, 606, 575, 400, 244, 705, 234, 158, 478,\n",
       "       242,  58, 152,  65, 322, 706, 706, 236, 577, 674, 234, 478, 531,\n",
       "       114, 707, 286, 475, 290, 234, 150, 750,  67, 151, 285, 530, 323,\n",
       "       230, 529, 485], dtype=int32)"
      ]
     },
     "execution_count": 26,
     "metadata": {},
     "output_type": "execute_result"
    }
   ],
   "source": [
    "x1 = lines_clone[:,0,0]\n",
    "x1"
   ]
  },
  {
   "cell_type": "code",
   "execution_count": 27,
   "metadata": {},
   "outputs": [],
   "source": [
    "x2 = lines_clone[:,0,2]"
   ]
  },
  {
   "cell_type": "code",
   "execution_count": 28,
   "metadata": {},
   "outputs": [],
   "source": [
    "y1 = lines_clone[:,0,1]\n",
    "y2 = lines_clone[:,0,3]"
   ]
  },
  {
   "cell_type": "code",
   "execution_count": 29,
   "metadata": {},
   "outputs": [],
   "source": [
    "totalx = np.append(x1,x2)"
   ]
  },
  {
   "cell_type": "code",
   "execution_count": 30,
   "metadata": {},
   "outputs": [],
   "source": [
    "totaly = np.append(y1, y2)"
   ]
  },
  {
   "cell_type": "code",
   "execution_count": 31,
   "metadata": {},
   "outputs": [],
   "source": [
    "lim_x = np.array([np.min(totalx), np.max(totalx)])"
   ]
  },
  {
   "cell_type": "code",
   "execution_count": 32,
   "metadata": {},
   "outputs": [],
   "source": [
    "lim_y = np.array([np.min(totaly), np.max(totaly)])"
   ]
  },
  {
   "cell_type": "code",
   "execution_count": 33,
   "metadata": {},
   "outputs": [
    {
     "data": {
      "text/plain": [
       "array([ 16, 758], dtype=int32)"
      ]
     },
     "execution_count": 33,
     "metadata": {},
     "output_type": "execute_result"
    }
   ],
   "source": [
    "lim_x"
   ]
  },
  {
   "cell_type": "code",
   "execution_count": 34,
   "metadata": {},
   "outputs": [
    {
     "data": {
      "text/plain": [
       "array([ 15, 725], dtype=int32)"
      ]
     },
     "execution_count": 34,
     "metadata": {},
     "output_type": "execute_result"
    }
   ],
   "source": [
    "lim_y"
   ]
  },
  {
   "cell_type": "code",
   "execution_count": 35,
   "metadata": {},
   "outputs": [],
   "source": [
    "media_x = np.sum(lim_x)/2.0\n",
    "hiper_p1 = [media_x, 0]\n",
    "hiper_p2 = [media_x, height]"
   ]
  },
  {
   "cell_type": "code",
   "execution_count": 36,
   "metadata": {},
   "outputs": [],
   "source": [
    "hiper = [hiper_p1, hiper_p2]"
   ]
  },
  {
   "cell_type": "markdown",
   "metadata": {},
   "source": [
    "# Estratégia\n",
    "\n",
    "Encontrar todas as interseções de um raio contra todas as linhas\n",
    "\n",
    "Encontrar todas as interseções de todos os raios contra todas as linhas\n",
    "\n",
    "Encontrar todas as distâncias dos pontos de interseção\n",
    "\n",
    "Retornar o mais próximo (portanto mais à frente)\n",
    "\n",
    "\n",
    "\n"
   ]
  },
  {
   "cell_type": "code",
   "execution_count": 37,
   "metadata": {},
   "outputs": [
    {
     "data": {
      "text/plain": [
       "<matplotlib.axes._subplots.AxesSubplot at 0x1a2089e9b0>"
      ]
     },
     "execution_count": 37,
     "metadata": {},
     "output_type": "execute_result"
    },
    {
     "data": {
      "image/png": "[encoded data removed]",
      "text/plain": [
       "<Figure size 720x720 with 1 Axes>"
      ]
     },
     "metadata": {},
     "output_type": "display_data"
    }
   ],
   "source": [
    "lidar_map = np.copy(np_image)\n",
    "\n",
    "retorno_lidar_robo = np.copy(lidar_map)\n",
    "\n",
    "\n",
    "inspercles.nb_draw_map(canvas, particles = particulas, initial_position = initial_pose, pose=pose, robot=True)"
   ]
  },
  {
   "cell_type": "code",
   "execution_count": 38,
   "metadata": {},
   "outputs": [],
   "source": [
    "retorno_lidar_robo = np.copy(np_image)\n",
    "\n",
    "#z_real, lidar_map = inspercles.nb_simulate_lidar_fast(pose, angles, np_image, retorno = retorno_lidar_robo, output_image=True)\n",
    "\n",
    "\n",
    "#inspercles.nb_draw_map(lidar_map, particles = particulas, initial_position = initial_pose, pose=pose, robot=True)"
   ]
  },
  {
   "cell_type": "code",
   "execution_count": 39,
   "metadata": {},
   "outputs": [
    {
     "data": {
      "text/plain": [
       "array([[[446, 717, 558, 717]],\n",
       "\n",
       "       [[ 17, 723, 757, 723]],\n",
       "\n",
       "       [[ 20,  15, 754,  15]],\n",
       "\n",
       "       ...,\n",
       "\n",
       "       [[230, 159, 230, 116]],\n",
       "\n",
       "       [[529, 460, 565, 460]],\n",
       "\n",
       "       [[485, 201, 521, 201]]], dtype=int32)"
      ]
     },
     "execution_count": 39,
     "metadata": {},
     "output_type": "execute_result"
    }
   ],
   "source": [
    "lines"
   ]
  },
  {
   "cell_type": "code",
   "execution_count": 40,
   "metadata": {},
   "outputs": [],
   "source": [
    "import rayline\n",
    "\n",
    "point = (100,80)\n",
    "direction = (10,11)\n",
    "p1 = (700,0)\n",
    "p2 = (700, 1000)\n",
    "\n",
    "inter = rayline.lineRayIntersectionPoint(point, direction, p1, p2)\n"
   ]
  },
  {
   "cell_type": "code",
   "execution_count": 41,
   "metadata": {},
   "outputs": [
    {
     "data": {
      "text/plain": [
       "[array([700., 740.])]"
      ]
     },
     "execution_count": 41,
     "metadata": {},
     "output_type": "execute_result"
    }
   ],
   "source": [
    "inter"
   ]
  },
  {
   "cell_type": "code",
   "execution_count": 42,
   "metadata": {},
   "outputs": [],
   "source": [
    "resultado = inspercles.intersecao_linhas(p1, direction,lines)"
   ]
  },
  {
   "cell_type": "code",
   "execution_count": 43,
   "metadata": {},
   "outputs": [],
   "source": [
    "x = 100\n",
    "y = 100\n",
    "intersecoes = resultado\n",
    "dists = np.sqrt(np.power(intersecoes[:,0]-x,2), np.power(intersecoes[:,1]-y,2))"
   ]
  },
  {
   "cell_type": "code",
   "execution_count": 44,
   "metadata": {},
   "outputs": [
    {
     "data": {
      "text/plain": [
       "array([9.99900000e+05, 9.99900000e+05, 6.13636364e+02, 6.15454545e+02,\n",
       "       9.99900000e+05, 9.99900000e+05, 9.99900000e+05, 9.99900000e+05,\n",
       "       9.99900000e+05, 9.99900000e+05, 9.99900000e+05, 9.99900000e+05,\n",
       "       6.56000000e+02, 6.58000000e+02, 9.99900000e+05, 6.51000000e+02,\n",
       "       9.99900000e+05, 6.14545455e+02, 9.99900000e+05, 6.57000000e+02,\n",
       "       9.99900000e+05, 9.99900000e+05, 9.99900000e+05, 9.99900000e+05,\n",
       "       9.99900000e+05, 9.99900000e+05, 9.99900000e+05, 9.99900000e+05,\n",
       "       9.99900000e+05, 9.99900000e+05, 9.99900000e+05, 9.99900000e+05,\n",
       "       9.99900000e+05, 9.99900000e+05, 9.99900000e+05, 9.99900000e+05,\n",
       "       9.99900000e+05, 9.99900000e+05, 9.99900000e+05, 9.99900000e+05,\n",
       "       9.99900000e+05, 9.99900000e+05, 9.99900000e+05, 9.99900000e+05,\n",
       "       9.99900000e+05, 9.99900000e+05, 9.99900000e+05, 9.99900000e+05,\n",
       "       9.99900000e+05, 9.99900000e+05, 9.99900000e+05, 9.99900000e+05,\n",
       "       9.99900000e+05, 9.99900000e+05, 9.99900000e+05, 9.99900000e+05,\n",
       "       9.99900000e+05, 9.99900000e+05, 9.99900000e+05, 9.99900000e+05,\n",
       "       9.99900000e+05, 9.99900000e+05, 9.99900000e+05, 9.99900000e+05,\n",
       "       9.99900000e+05, 9.99900000e+05, 9.99900000e+05, 9.99900000e+05,\n",
       "       9.99900000e+05, 9.99900000e+05, 9.99900000e+05, 9.99900000e+05,\n",
       "       9.99900000e+05, 9.99900000e+05, 9.99900000e+05, 9.99900000e+05,\n",
       "       9.99900000e+05, 9.99900000e+05, 9.99900000e+05, 9.99900000e+05,\n",
       "       9.99900000e+05, 9.99900000e+05, 9.99900000e+05, 9.99900000e+05,\n",
       "       9.99900000e+05, 9.99900000e+05, 9.99900000e+05, 9.99900000e+05,\n",
       "       9.99900000e+05, 9.99900000e+05, 9.99900000e+05, 9.99900000e+05,\n",
       "       9.99900000e+05, 9.99900000e+05, 9.99900000e+05, 9.99900000e+05,\n",
       "       9.99900000e+05, 9.99900000e+05, 9.99900000e+05, 9.99900000e+05,\n",
       "       9.99900000e+05, 9.99900000e+05, 9.99900000e+05, 9.99900000e+05,\n",
       "       9.99900000e+05, 9.99900000e+05, 9.99900000e+05, 9.99900000e+05,\n",
       "       9.99900000e+05, 9.99900000e+05, 9.99900000e+05, 9.99900000e+05,\n",
       "       9.99900000e+05, 9.99900000e+05, 9.99900000e+05, 9.99900000e+05,\n",
       "       9.99900000e+05, 9.99900000e+05, 9.99900000e+05, 9.99900000e+05,\n",
       "       9.99900000e+05, 9.99900000e+05, 9.99900000e+05, 9.99900000e+05,\n",
       "       9.99900000e+05, 9.99900000e+05, 9.99900000e+05, 9.99900000e+05,\n",
       "       9.99900000e+05, 9.99900000e+05, 9.99900000e+05, 9.99900000e+05,\n",
       "       9.99900000e+05, 9.99900000e+05, 9.99900000e+05, 9.99900000e+05,\n",
       "       9.99900000e+05, 9.99900000e+05, 9.99900000e+05, 9.99900000e+05,\n",
       "       9.99900000e+05, 9.99900000e+05, 9.99900000e+05, 9.99900000e+05,\n",
       "       9.99900000e+05, 9.99900000e+05, 9.99900000e+05, 9.99900000e+05,\n",
       "       9.99900000e+05, 9.99900000e+05, 9.99900000e+05, 9.99900000e+05,\n",
       "       9.99900000e+05, 9.99900000e+05, 9.99900000e+05, 9.99900000e+05,\n",
       "       9.99900000e+05, 9.99900000e+05, 9.99900000e+05, 9.99900000e+05,\n",
       "       9.99900000e+05, 9.99900000e+05, 9.99900000e+05, 9.99900000e+05,\n",
       "       9.99900000e+05, 9.99900000e+05, 9.99900000e+05, 9.99900000e+05,\n",
       "       9.99900000e+05, 9.99900000e+05, 9.99900000e+05, 9.99900000e+05,\n",
       "       9.99900000e+05, 9.99900000e+05, 9.99900000e+05, 9.99900000e+05,\n",
       "       9.99900000e+05, 9.99900000e+05, 9.99900000e+05, 9.99900000e+05,\n",
       "       9.99900000e+05, 9.99900000e+05, 9.99900000e+05, 9.99900000e+05,\n",
       "       9.99900000e+05, 9.99900000e+05, 9.99900000e+05, 9.99900000e+05,\n",
       "       9.99900000e+05, 9.99900000e+05, 9.99900000e+05, 9.99900000e+05,\n",
       "       9.99900000e+05, 9.99900000e+05, 9.99900000e+05, 9.99900000e+05,\n",
       "       9.99900000e+05, 9.99900000e+05, 9.99900000e+05, 9.99900000e+05,\n",
       "       9.99900000e+05, 9.99900000e+05, 9.99900000e+05, 9.99900000e+05,\n",
       "       9.99900000e+05, 9.99900000e+05, 9.99900000e+05, 9.99900000e+05,\n",
       "       9.99900000e+05, 9.99900000e+05, 9.99900000e+05, 9.99900000e+05,\n",
       "       9.99900000e+05, 9.99900000e+05, 9.99900000e+05, 9.99900000e+05,\n",
       "       9.99900000e+05, 9.99900000e+05, 9.99900000e+05, 9.99900000e+05,\n",
       "       9.99900000e+05, 9.99900000e+05, 9.99900000e+05, 9.99900000e+05,\n",
       "       9.99900000e+05, 9.99900000e+05, 9.99900000e+05, 9.99900000e+05,\n",
       "       9.99900000e+05, 9.99900000e+05, 9.99900000e+05, 9.99900000e+05,\n",
       "       9.99900000e+05, 9.99900000e+05, 9.99900000e+05, 9.99900000e+05,\n",
       "       9.99900000e+05, 9.99900000e+05, 9.99900000e+05, 9.99900000e+05,\n",
       "       9.99900000e+05, 9.99900000e+05, 9.99900000e+05, 9.99900000e+05,\n",
       "       9.99900000e+05, 9.99900000e+05, 9.99900000e+05, 9.99900000e+05,\n",
       "       9.99900000e+05, 9.99900000e+05, 9.99900000e+05, 9.99900000e+05,\n",
       "       9.99900000e+05, 9.99900000e+05, 9.99900000e+05, 9.99900000e+05,\n",
       "       6.20000000e+02, 9.99900000e+05, 9.99900000e+05, 9.99900000e+05,\n",
       "       9.99900000e+05, 9.99900000e+05, 9.99900000e+05, 9.99900000e+05,\n",
       "       9.99900000e+05, 9.99900000e+05, 9.99900000e+05, 9.99900000e+05,\n",
       "       9.99900000e+05, 9.99900000e+05, 9.99900000e+05, 9.99900000e+05,\n",
       "       9.99900000e+05, 9.99900000e+05, 9.99900000e+05, 9.99900000e+05])"
      ]
     },
     "execution_count": 44,
     "metadata": {},
     "output_type": "execute_result"
    }
   ],
   "source": [
    "dists"
   ]
  },
  {
   "cell_type": "markdown",
   "metadata": {},
   "source": [
    "![](anim.gif)"
   ]
  },
  {
   "cell_type": "code",
   "execution_count": 45,
   "metadata": {},
   "outputs": [],
   "source": [
    "minimo = np.min(dists)\n",
    "i, = np.where( dists==minimo )"
   ]
  },
  {
   "cell_type": "code",
   "execution_count": 46,
   "metadata": {},
   "outputs": [],
   "source": [
    "minimo = np.min(dists)"
   ]
  },
  {
   "cell_type": "code",
   "execution_count": 47,
   "metadata": {},
   "outputs": [
    {
     "data": {
      "text/plain": [
       "2"
      ]
     },
     "execution_count": 47,
     "metadata": {},
     "output_type": "execute_result"
    }
   ],
   "source": [
    "i[0]"
   ]
  },
  {
   "cell_type": "code",
   "execution_count": 48,
   "metadata": {},
   "outputs": [],
   "source": [
    "def intersecao_mais_proxima(ray_origin, ray_direction, lines):\n",
    "    \"\"\"\n",
    "        Dentre as intereseçoes, acha a mais próxima\n",
    "    \"\"\"\n",
    "    intersecoes = inspercles.intersecao_linhas(ray_origin, ray_direction, lines)\n",
    "    x = ray_origin[0]\n",
    "    y = ray_origin[1]\n",
    "    dists = np.sqrt(np.power(intersecoes[:,0]-x,2), np.power(intersecoes[:,1]-y,2))\n",
    "    minimo = np.min(dists)\n",
    "    i, = np.where( dists==minimo )\n",
    "    i = i[0]\n",
    "    p_int = (intersecoes[i,0] , intersecoes[i, 1])\n",
    "    return dists[i], p_int"
   ]
  },
  {
   "cell_type": "code",
   "execution_count": 49,
   "metadata": {},
   "outputs": [],
   "source": [
    "distancia, intersec = intersecao_mais_proxima(point, direction, lines)"
   ]
  },
  {
   "cell_type": "code",
   "execution_count": 50,
   "metadata": {},
   "outputs": [
    {
     "data": {
      "text/plain": [
       "(114.0, 95.4)"
      ]
     },
     "execution_count": 50,
     "metadata": {},
     "output_type": "execute_result"
    }
   ],
   "source": [
    "intersec"
   ]
  },
  {
   "cell_type": "code",
   "execution_count": 51,
   "metadata": {},
   "outputs": [
    {
     "data": {
      "text/plain": [
       "14.0"
      ]
     },
     "execution_count": 51,
     "metadata": {},
     "output_type": "execute_result"
    }
   ],
   "source": [
    "distancia"
   ]
  },
  {
   "cell_type": "code",
   "execution_count": 52,
   "metadata": {},
   "outputs": [],
   "source": [
    "canvas_copy = np.copy(canvas)"
   ]
  },
  {
   "cell_type": "code",
   "execution_count": 53,
   "metadata": {},
   "outputs": [
    {
     "data": {
      "text/plain": [
       "array([[[127, 127, 127],\n",
       "        [127, 127, 127],\n",
       "        [127, 127, 127],\n",
       "        ...,\n",
       "        [127, 127, 127],\n",
       "        [127, 127, 127],\n",
       "        [127, 127, 127]],\n",
       "\n",
       "       [[127, 127, 127],\n",
       "        [127, 127, 127],\n",
       "        [127, 127, 127],\n",
       "        ...,\n",
       "        [127, 127, 127],\n",
       "        [127, 127, 127],\n",
       "        [127, 127, 127]],\n",
       "\n",
       "       [[127, 127, 127],\n",
       "        [127, 127, 127],\n",
       "        [127, 127, 127],\n",
       "        ...,\n",
       "        [127, 127, 127],\n",
       "        [127, 127, 127],\n",
       "        [127, 127, 127]],\n",
       "\n",
       "       ...,\n",
       "\n",
       "       [[127, 127, 127],\n",
       "        [127, 127, 127],\n",
       "        [127, 127, 127],\n",
       "        ...,\n",
       "        [127, 127, 127],\n",
       "        [127, 127, 127],\n",
       "        [127, 127, 127]],\n",
       "\n",
       "       [[127, 127, 127],\n",
       "        [127, 127, 127],\n",
       "        [127, 127, 127],\n",
       "        ...,\n",
       "        [127, 127, 127],\n",
       "        [127, 127, 127],\n",
       "        [127, 127, 127]],\n",
       "\n",
       "       [[127, 127, 127],\n",
       "        [127, 127, 127],\n",
       "        [127, 127, 127],\n",
       "        ...,\n",
       "        [127, 127, 127],\n",
       "        [127, 127, 127],\n",
       "        [127, 127, 127]]], dtype=uint8)"
      ]
     },
     "execution_count": 53,
     "metadata": {},
     "output_type": "execute_result"
    }
   ],
   "source": [
    "import numpy\n",
    "destino_i = (int(intersec[0]), int(intersec[1]))\n",
    "origem_i = (int(point[0]), int(point[1]))\n",
    "cv2.line(canvas_copy, origem_i, destino_i , random_color(), 2, cv2.LINE_AA)\n"
   ]
  },
  {
   "cell_type": "code",
   "execution_count": 54,
   "metadata": {},
   "outputs": [
    {
     "data": {
      "text/plain": [
       "<matplotlib.image.AxesImage at 0x1a20a65cc0>"
      ]
     },
     "execution_count": 54,
     "metadata": {},
     "output_type": "execute_result"
    },
    {
     "data": {
      "image/png": "[encoded data removed]",
      "text/plain": [
       "<Figure size 1080x1080 with 1 Axes>"
      ]
     },
     "metadata": {},
     "output_type": "display_data"
    }
   ],
   "source": [
    "plt.figure(figsize=(15,15))\n",
    "plt.imshow(canvas_copy)"
   ]
  },
  {
   "cell_type": "code",
   "execution_count": 55,
   "metadata": {},
   "outputs": [
    {
     "name": "stdout",
     "output_type": "stream",
     "text": [
      "Tempo para 500 vezes com imagem:  13.774276971817017\n",
      "Tempo para 500 vezes sem imagem:  13.201121091842651\n"
     ]
    },
    {
     "data": {
      "text/plain": [
       "<matplotlib.image.AxesImage at 0x1a21c55b70>"
      ]
     },
     "execution_count": 55,
     "metadata": {},
     "output_type": "execute_result"
    },
    {
     "data": {
      "image/png": "[encoded data removed]",
      "text/plain": [
       "<Figure size 720x720 with 1 Axes>"
      ]
     },
     "metadata": {},
     "output_type": "display_data"
    }
   ],
   "source": [
    "retorno_lidar_robo = np.copy(np_image)\n",
    "\n",
    "import time\n",
    "start = time.time()\n",
    "for i in range(500): \n",
    "    z_real, lidar_map = inspercles.nb_simulate_lidar_fast(pose, angles, np_image, retorno = retorno_lidar_robo, output_image=True)\n",
    "end = time.time()\n",
    "\n",
    "print(\"Tempo para 500 vezes com imagem: \", end - start)\n",
    "\n",
    "start = time.time()\n",
    "for i in range(500): \n",
    "    z_real, dump = inspercles.nb_simulate_lidar_fast(pose, angles, np_image, retorno = retorno_lidar_robo, output_image=False)\n",
    "end = time.time()\n",
    "\n",
    "print(\"Tempo para 500 vezes sem imagem: \", end - start)\n",
    "\n",
    "\n",
    "ax = inspercles.nb_draw_map(lidar_map, particles = particulas, initial_position = initial_pose, pose=pose, robot=True)\n",
    "ax.imshow(canvas_copy, alpha=0.5)\n"
   ]
  },
  {
   "cell_type": "code",
   "execution_count": null,
   "metadata": {},
   "outputs": [],
   "source": []
  },
  {
   "cell_type": "code",
   "execution_count": null,
   "metadata": {},
   "outputs": [],
   "source": [
    "\n",
    "file_lines = read_lines(lines_filename)\n",
    "visible_dict = computa_visibilidade(mascara, )"
   ]
  }
 ],
 "metadata": {
  "kernelspec": {
   "display_name": "Python 3",
   "language": "python",
   "name": "python3"
  },
  "language_info": {
   "codemirror_mode": {
    "name": "ipython",
    "version": 3
   },
   "file_extension": ".py",
   "mimetype": "text/x-python",
   "name": "python",
   "nbconvert_exporter": "python",
   "pygments_lexer": "ipython3",
   "version": "3.5.5"
  }
 },
 "nbformat": 4,
 "nbformat_minor": 2
}
